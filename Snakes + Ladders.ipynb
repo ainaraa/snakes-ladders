{
 "cells": [
  {
   "cell_type": "markdown",
   "metadata": {},
   "source": [
    "#Snakes + Ladders\n",
    "Simulation for End-to-End Analytics\n",
    "\n",
    "by Ainara Arcelus on December 6th\n",
    "\n",
    "$Approach_1$ where I code the game."
   ]
  },
  {
   "cell_type": "code",
   "execution_count": 2,
   "metadata": {
    "collapsed": false
   },
   "outputs": [],
   "source": [
    "import random\n",
    "import numpy as np\n",
    "from plotly.tools import FigureFactory as FF\n",
    "import plotly.tools as tls\n",
    "tls.set_credentials_file(username='ainara', api_key='l83pbqxll6')\n",
    "import plotly.plotly as py\n",
    "from plotly.graph_objs import *\n",
    "from collections import Counter"
   ]
  },
  {
   "cell_type": "markdown",
   "metadata": {},
   "source": [
    "### A Player as a Class\n",
    "Python is awesome because it has object-oriented programming.  Let's define our main object (class), $Player$, which will have specific data and methods representing a player in this game.  \n",
    "\n",
    "There are five attributes (data) about a player that we need to know: starting position on the board, default is on square one; id, if it's player 1 or 2; probability of climbing a ladder; and immunity to the first snake."
   ]
  },
  {
   "cell_type": "code",
   "execution_count": 3,
   "metadata": {
    "collapsed": false
   },
   "outputs": [],
   "source": [
    "class Player(object):\n",
    "    def __init__(self, id, start, ladder_probability, snake_immunity):\n",
    "        ''' Creating a player with the given attributes'''\n",
    "        self.id = id\n",
    "        self.start = start\n",
    "        self.pos = start\n",
    "        self.ladderp = ladder_probability\n",
    "        self.immunity = snake_immunity\n",
    "        self.rolls = 0\n",
    "        self.snakes = 0\n",
    "    # The rest of these lines are just functions that allow us to interact with the Player\n",
    "    def updatePosition(self, steps): \n",
    "        ''' Change the position of a player given\n",
    "            an interval of steps '''\n",
    "        self.pos += steps\n",
    "    def getPosition(self):\n",
    "        ''' Where on the board is the Player'''\n",
    "        return self.pos\n",
    "    def addRoll(self):\n",
    "        ''' Allows us to increase the number\n",
    "            of times a player has tossed the die '''\n",
    "        self.rolls += 1\n",
    "    def addSnake(self):\n",
    "        ''' Add a snake to the count if \n",
    "            the player encounters one '''\n",
    "        self.snakes += 1\n",
    "    def getSnakes(self):\n",
    "        ''' How many snakes has the player\n",
    "            run into?'''\n",
    "        return self.snakes\n",
    "    def getRolls(self):\n",
    "        ''' How many times has the player \n",
    "            tossed the die? '''\n",
    "        return self.rolls\n",
    "    def getLadderp(self):\n",
    "        return self.ladderp\n",
    "    def getImmunity(self):\n",
    "        ''' Is this player immune to the\n",
    "            first snake? '''\n",
    "        return self.immunity\n",
    "    def getId(self):\n",
    "        ''' Which player is this? 1 or 2'''\n",
    "        return self.id\n",
    "    def getStart(self):\n",
    "        return self.start\n",
    "    def reset(self):\n",
    "        self.__init__(self.getId(), self.getStart(), self.getLadderp(), self.getImmunity())\n",
    "    def __str__(self):\n",
    "        ''' prints the ID number of the player '''\n",
    "        return 'Player '+str(self.id)"
   ]
  },
  {
   "cell_type": "markdown",
   "metadata": {},
   "source": [
    "### Snakes and Ladders as dictionaries\n",
    "Before playing, let's keep track of where the $ladders$ and $snakes$ are.  The best way to do this is using a Python dictionary, where the keys are the position on the board and item are the change in steps.  For example, at square 3, a player takes 13 steps forward to square 16."
   ]
  },
  {
   "cell_type": "code",
   "execution_count": 11,
   "metadata": {
    "collapsed": true
   },
   "outputs": [],
   "source": [
    "ladders = {3: 13, 5: 2, 15: 10, 18: 2, 21: 11}"
   ]
  },
  {
   "cell_type": "code",
   "execution_count": 12,
   "metadata": {
    "collapsed": true
   },
   "outputs": [],
   "source": [
    "snakes = {12: -10, 14: -3, 17: -13, 31: -12, 35: -13}"
   ]
  },
  {
   "cell_type": "markdown",
   "metadata": {},
   "source": [
    "### A Game as a Function\n",
    "Now we have all the pieces necessary to play a game.  Let's create a function called $game$ so we can easily run 10,000 games in one scenario.  All we need are to feed it our two $players$."
   ]
  },
  {
   "cell_type": "code",
   "execution_count": 13,
   "metadata": {
    "collapsed": true
   },
   "outputs": [],
   "source": [
    "#players = [Player(1, 1, 1, False), Player(2, 1, 1, False)]"
   ]
  },
  {
   "cell_type": "code",
   "execution_count": 14,
   "metadata": {
    "collapsed": false
   },
   "outputs": [],
   "source": [
    "def game(players, q3):\n",
    "    win = False\n",
    "    while win == False:\n",
    "        for player in players:\n",
    "            if q3:\n",
    "                question3inits(player)\n",
    "            # Roll die and advance number on face\n",
    "            steps = random.randint(1,6)\n",
    "            player.updatePosition(steps)\n",
    "            player.addRoll()\n",
    "            #print(str(player) + ' rolled a '+str(steps)+' with position '+ str(player.getPosition()))\n",
    "\n",
    "            # Advance if at a ladder (and accept)\n",
    "            if player.getPosition() in ladders:\n",
    "                accept = np.random.binomial(1,player.getLadderp())\n",
    "                if accept:\n",
    "                    player.updatePosition(ladders.get(player.getPosition()))\n",
    "            # Go back if on a snake (and not immune)\n",
    "            if player.getPosition() in snakes:\n",
    "                player.addSnake()\n",
    "                if (player.getSnakes() != 1 and player.getImmunity()) or not (player.getImmunity()):\n",
    "                    player.updatePosition(snakes.get(player.getPosition()))\n",
    "            #print(str(player) + ' ends at '+str(player.getPosition()))\n",
    "            # Check if winner\n",
    "            #  Funny bug: if winning threshold is 10, and jump from 6 to 12 (by rolling a 6); will not win because get sent back by snake at 12\n",
    "\n",
    "            if player.getPosition() >= 36:  # 36\n",
    "                win = True\n",
    "                winner = 1 if player.getId()== 1 else 0\n",
    "                break\n",
    "    total_rolls = sum(player.getRolls() for player in players)\n",
    "    total_snakes = sum(player.getSnakes() for player in players)\n",
    "    return(win, winner, total_rolls, total_snakes) # sum rolls, sum snakes"
   ]
  },
  {
   "cell_type": "code",
   "execution_count": 15,
   "metadata": {
    "collapsed": true
   },
   "outputs": [],
   "source": [
    "def question3inits(player):\n",
    "    ''' This is not ideal but I needed to check for snakes and ladders at the beginning \n",
    "        for Question 3.  For example, if Player 2 is started at 3 in question 3, then really I interpret that\n",
    "        as starting at 16.\n",
    "    '''\n",
    "    # Advance if start at ladder (and accept)\n",
    "    if player.getPosition() in ladders:\n",
    "        accept = np.random.binomial(1,player.getLadderp())\n",
    "        if accept:\n",
    "            player.updatePosition(ladders.get(player.getPosition()))\n",
    "    # Go back if on a snake (and not immune)\n",
    "    if player.getPosition() in snakes:\n",
    "        player.addSnake()\n",
    "        if (player.getSnakes() != 1 and player.getImmunity()) or not (player.getImmunity()):\n",
    "            player.updatePosition(snakes.get(player.getPosition()))"
   ]
  },
  {
   "cell_type": "markdown",
   "metadata": {},
   "source": [
    "### A Simulation as a Function of Games\n",
    "Now let's run 10,000 games and keep track of things"
   ]
  },
  {
   "cell_type": "code",
   "execution_count": 16,
   "metadata": {
    "collapsed": false
   },
   "outputs": [],
   "source": [
    "def sim(runs, players, q3):\n",
    "    runsleft = runs\n",
    "    player1, rolltotal, snaketotal = 0,0,0\n",
    "    rolls_all, snakes_all = [],[]\n",
    "    while runsleft > 0:\n",
    "        g = game(players, q3)\n",
    "        #print(g)\n",
    "        player1 += g[1] # counts Player 1's wins\n",
    "        rolltotal += g[2]\n",
    "        snaketotal += g[3]\n",
    "        rolls_all.append(g[2])\n",
    "        snakes_all.append(g[3])\n",
    "        [p.reset() for p in players]\n",
    "        runsleft -= 1\n",
    "    return(player1/runs, snaketotal/runs, rolltotal/runs, rolls_all, snakes_all)"
   ]
  },
  {
   "cell_type": "markdown",
   "metadata": {},
   "source": [
    "## Questions 1 and 2"
   ]
  },
  {
   "cell_type": "code",
   "execution_count": 17,
   "metadata": {
    "collapsed": true
   },
   "outputs": [],
   "source": [
    "runs = 10000\n",
    "players = [Player(1, 1, 1, False), Player(2, 1, 1, False)]"
   ]
  },
  {
   "cell_type": "code",
   "execution_count": 18,
   "metadata": {
    "collapsed": false
   },
   "outputs": [],
   "source": [
    "q1and2 = sim(runs, players, q3= False)   "
   ]
  },
  {
   "cell_type": "code",
   "execution_count": 19,
   "metadata": {
    "collapsed": false
   },
   "outputs": [
    {
     "data": {
      "text/plain": [
       "(0.5228, 3.0926, 19.1096)"
      ]
     },
     "execution_count": 19,
     "metadata": {},
     "output_type": "execute_result"
    }
   ],
   "source": [
    "q1and2[0:3]"
   ]
  },
  {
   "cell_type": "markdown",
   "metadata": {},
   "source": [
    "Looks like Player 1 has a slight advantage, winning about 52% of the games.  Games usually have 3 snakes and take 19 rolls to complete"
   ]
  },
  {
   "cell_type": "markdown",
   "metadata": {},
   "source": [
    "## Question 4\n",
    "Now we just have to adjust the probabilities a player has of accepting a ladder.  This is easy to do since it is already an attribute in the Player class"
   ]
  },
  {
   "cell_type": "code",
   "execution_count": 20,
   "metadata": {
    "collapsed": false
   },
   "outputs": [],
   "source": [
    "runs = 10000\n",
    "acceptance = .5\n",
    "players = [Player(1, 1, acceptance, False), Player(2, 1, acceptance, False)]"
   ]
  },
  {
   "cell_type": "code",
   "execution_count": 21,
   "metadata": {
    "collapsed": false
   },
   "outputs": [
    {
     "data": {
      "text/plain": [
       "(0.5229, 3.578, 22.4369)"
      ]
     },
     "execution_count": 21,
     "metadata": {},
     "output_type": "execute_result"
    }
   ],
   "source": [
    "q4 = sim(runs, players, q3 = False) \n",
    "q4[0:3]"
   ]
  },
  {
   "cell_type": "markdown",
   "metadata": {},
   "source": [
    "Since a player can only take a ladder half of the time, the average number of rolls per game increases from 19 to 22; it takes longer to win now.  The ladders usually help with that.  In addition, there is about half a snake more on average.  Player 1 still wins just over half of the time."
   ]
  },
  {
   "cell_type": "markdown",
   "metadata": {},
   "source": [
    "## Question 5\n",
    "Again, we can adjust the snake_immunity parameter when defining the Player 2.  (And reset the acceptance of ladders to 1.)"
   ]
  },
  {
   "cell_type": "code",
   "execution_count": 22,
   "metadata": {
    "collapsed": true
   },
   "outputs": [],
   "source": [
    "runs = 10000\n",
    "players = [Player(1, 1, 1, False), Player(2, 1, 1, True)]"
   ]
  },
  {
   "cell_type": "code",
   "execution_count": 23,
   "metadata": {
    "collapsed": false
   },
   "outputs": [
    {
     "data": {
      "text/plain": [
       "(0.3776, 2.6689, 16.8316)"
      ]
     },
     "execution_count": 23,
     "metadata": {},
     "output_type": "execute_result"
    }
   ],
   "source": [
    "q5 = sim(runs, players, q3=False) \n",
    "q5[0:3]"
   ]
  },
  {
   "cell_type": "markdown",
   "metadata": {},
   "source": [
    "Wow; this immunity is a game changer.  Player 1 is only about 40% likely to win now.  Because Player 2 has a greater chance of continuing instead of going backwards, the game is shorter from 19 to 17 rolls and there are slightly fewer snakes (.4 less of a snake)."
   ]
  },
  {
   "cell_type": "markdown",
   "metadata": {},
   "source": [
    "## Question 3\n",
    "This question is the trickiest.  There seems to be the brute force approach using a simulation to try every starting position for Player 2.  The brute force approach might also be combined with an approximation to avoid testing all 36 squares.  Perhaps there is also an analytical solution that calculates the probability of winning at each square.  \n",
    "\n",
    "This board is not linear however.  It is not obvious that the player who is furthest along is most likely to win.  Furthermore, the original game gives Player 1 a 2% advantage.  Not much?"
   ]
  },
  {
   "cell_type": "code",
   "execution_count": 24,
   "metadata": {
    "collapsed": true
   },
   "outputs": [],
   "source": [
    "def bruteForce(runs):\n",
    "    inequality = []\n",
    "    for start in range(1,37):\n",
    "        players = [Player(1, 1, 1, False), Player(2, start, 1, False)]\n",
    "        inequality.append(abs(.5 - sim(runs, players, q3 = True)[0]))\n",
    "    print('Minimum difference of ', str(min(inequality)), ' when Player 2 starts at ', str(inequality.index(min(inequality))+1))\n",
    "    return(inequality)"
   ]
  },
  {
   "cell_type": "code",
   "execution_count": 26,
   "metadata": {
    "collapsed": false
   },
   "outputs": [
    {
     "name": "stdout",
     "output_type": "stream",
     "text": [
      "Minimum difference of  0.0039000000000000146  when Player 2 starts at  7\n"
     ]
    },
    {
     "data": {
      "text/plain": [
       "[0.028900000000000037,\n",
       " 0.02310000000000001,\n",
       " 0.2132,\n",
       " 0.027900000000000036,\n",
       " 0.009099999999999997,\n",
       " 0.021299999999999986,\n",
       " 0.0039000000000000146,\n",
       " 0.015900000000000025,\n",
       " 0.056999999999999995,\n",
       " 0.0806,\n",
       " 0.06280000000000002,\n",
       " 0.007900000000000018,\n",
       " 0.1412,\n",
       " 0.05730000000000002,\n",
       " 0.30379999999999996,\n",
       " 0.2116,\n",
       " 0.038000000000000034,\n",
       " 0.2828,\n",
       " 0.28290000000000004,\n",
       " 0.2949,\n",
       " 0.437,\n",
       " 0.28200000000000003,\n",
       " 0.2963,\n",
       " 0.3141,\n",
       " 0.3016,\n",
       " 0.3236,\n",
       " 0.3556,\n",
       " 0.36360000000000003,\n",
       " 0.3539,\n",
       " 0.3796,\n",
       " 0.2768,\n",
       " 0.4339,\n",
       " 0.4494,\n",
       " 0.45389999999999997,\n",
       " 0.2894,\n",
       " 0.5]"
      ]
     },
     "execution_count": 26,
     "metadata": {},
     "output_type": "execute_result"
    }
   ],
   "source": [
    "bruteForce(runs = 10000)"
   ]
  },
  {
   "cell_type": "markdown",
   "metadata": {},
   "source": [
    "I am getting an \"optimal\" starting point at square 7 (diff of .0013 from .5).  What I expected!!  [Note: Sometimes I get an answer of starting at 5, which is equivalent to starting at 7 because the ladder at 5 goes to 7.]"
   ]
  },
  {
   "cell_type": "code",
   "execution_count": 29,
   "metadata": {
    "collapsed": false
   },
   "outputs": [
    {
     "data": {
      "text/plain": [
       "(0.4986, 3.281, 18.4568)"
      ]
     },
     "execution_count": 29,
     "metadata": {},
     "output_type": "execute_result"
    }
   ],
   "source": [
    "runs = 10000\n",
    "players = [Player(1, 1, 1, False), Player(2, 7, 1, False)]\n",
    "q3 = sim(runs, players, q3=False) \n",
    "q3[0:3]"
   ]
  },
  {
   "cell_type": "markdown",
   "metadata": {},
   "source": [
    "## Graphing with Plotly\n",
    "Wouldn't be legitimate without a graph in Plotly"
   ]
  },
  {
   "cell_type": "code",
   "execution_count": 86,
   "metadata": {
    "collapsed": true
   },
   "outputs": [],
   "source": [
    "# Let's start with an easy bubble chart to plot the probability of Player 1 winning"
   ]
  },
  {
   "cell_type": "code",
   "execution_count": 111,
   "metadata": {
    "collapsed": false
   },
   "outputs": [],
   "source": [
    "inflation = 300\n",
    "trace_p1 = Scatter(x=['Original', 'Accept 50% Ladders', 'Player 2 Immunity', 'Player 2 at 7'],\n",
    "                   y = [0,0,0,0], text=[str(q1and2[0]), str(q4[0]), str(q5[0]), str(q3[0])],\n",
    "                   mode='markers', marker=dict(color=['rgb(93, 164, 214)', \\\n",
    "                                'rgb(255, 144, 14)',  'rgb(44, 160, 101)', 'rgb(255, 65, 54)'],\n",
    "                                size =  [inflation*q1and2[0], inflation*q4[0], inflation*q5[0], inflation*q3[0]]))\n",
    "data = [trace_p1]\n",
    "layout = Layout(yaxis=dict(showgrid=False, zeroline=False, showline=False, showticklabels=False),\n",
    "               title = 'Probability of Player 1 Winning across Scenarios')\n",
    "fig = Figure(data=data, layout = layout)"
   ]
  },
  {
   "cell_type": "code",
   "execution_count": 112,
   "metadata": {
    "collapsed": false
   },
   "outputs": [
    {
     "data": {
      "text/html": [
       "<iframe id=\"igraph\" scrolling=\"no\" style=\"border:none;\"seamless=\"seamless\" src=\"https://plot.ly/~ainara/796.embed\" height=\"525px\" width=\"100%\"></iframe>"
      ],
      "text/plain": [
       "<plotly.tools.PlotlyDisplay object>"
      ]
     },
     "execution_count": 112,
     "metadata": {},
     "output_type": "execute_result"
    }
   ],
   "source": [
    "py.iplot(fig, filename='p1-probabilities')"
   ]
  },
  {
   "cell_type": "code",
   "execution_count": 113,
   "metadata": {
    "collapsed": false
   },
   "outputs": [],
   "source": [
    "# Plotting distribution of rolls per game\n",
    "hist_data = [q3[3], q5[3], q4[3], q1and2[3]]\n",
    "group_labels = ['Player 2 at 7', 'Player 2 Immunity', 'Accept 50% Ladders', 'Original']\n",
    "\n",
    "fig = FF.create_distplot(hist_data, group_labels, show_hist=False, colors = ['rgb(255, 65, 54)', 'rgb(44, 160, 101)',\\\n",
    "                                                                            'rgb(255, 144, 14)','rgb(93, 164, 214)'])\n",
    "fig['layout'].update(title='Distribution of Rolls per Game across Scenarios')"
   ]
  },
  {
   "cell_type": "code",
   "execution_count": 114,
   "metadata": {
    "collapsed": false
   },
   "outputs": [
    {
     "name": "stdout",
     "output_type": "stream",
     "text": [
      "The draw time for this plot will be slow for clients without much RAM.\n"
     ]
    },
    {
     "name": "stderr",
     "output_type": "stream",
     "text": [
      "C:\\Python34\\lib\\site-packages\\plotly\\plotly\\plotly.py:1416: UserWarning:\n",
      "\n",
      "Estimated Draw Time Slow\n",
      "\n"
     ]
    },
    {
     "data": {
      "text/html": [
       "<iframe id=\"igraph\" scrolling=\"no\" style=\"border:none;\"seamless=\"seamless\" src=\"https://plot.ly/~ainara/789.embed\" height=\"525px\" width=\"100%\"></iframe>"
      ],
      "text/plain": [
       "<plotly.tools.PlotlyDisplay object>"
      ]
     },
     "execution_count": 114,
     "metadata": {},
     "output_type": "execute_result"
    }
   ],
   "source": [
    "py.iplot(fig, filename='rolls-dist')"
   ]
  },
  {
   "cell_type": "code",
   "execution_count": 115,
   "metadata": {
    "collapsed": false
   },
   "outputs": [],
   "source": [
    "# Plotting histogram of snakes per game # Takes a few lines to turn the lists of snakes into frequencies\n",
    "count_q1and2 = Counter(q1and2[4])\n",
    "trace_q1and2 = Scatter(x = list(count_q1and2.keys()), y = list(count_q1and2.values()), name = 'Original',\n",
    "                      marker=dict(color='rgb(93, 164, 214)'))\n",
    "\n",
    "count_q4 = Counter(q4[4])\n",
    "trace_q4 = Scatter(x = list(count_q4.keys()), y = list(count_q4.values()), name = 'Accept 50% Ladders',\n",
    "                  marker=dict(color='rgb(255, 144, 14)'))\n",
    "\n",
    "count_q5 = Counter(q5[4])\n",
    "trace_q5 = Scatter(x = list(count_q5.keys()), y = list(count_q5.values()), name = 'Player 2 Immunity',\n",
    "                  marker=dict(color='rgb(44, 160, 101)'))\n",
    "\n",
    "count_q3 = Counter(q3[4])\n",
    "trace_q3 = Scatter(x = list(count_q3.keys()), y = list(count_q3.values()), name = 'Player 2 at 7',\n",
    "                  marker=dict(color='rgb(255, 65, 54)'))\n",
    "\n",
    "traceList = [trace_q1and2, trace_q4, trace_q5, trace_q3]\n",
    "layout = Layout(title='Frequency Count of Snakes per Game across Scenarios')\n",
    "#fig = Figure(traceList, layout=layout)"
   ]
  },
  {
   "cell_type": "code",
   "execution_count": 116,
   "metadata": {
    "collapsed": true
   },
   "outputs": [],
   "source": [
    "fig = Figure(data=traceList, layout=layout)"
   ]
  },
  {
   "cell_type": "code",
   "execution_count": 117,
   "metadata": {
    "collapsed": false
   },
   "outputs": [
    {
     "data": {
      "text/html": [
       "<iframe id=\"igraph\" scrolling=\"no\" style=\"border:none;\"seamless=\"seamless\" src=\"https://plot.ly/~ainara/794.embed\" height=\"525px\" width=\"100%\"></iframe>"
      ],
      "text/plain": [
       "<plotly.tools.PlotlyDisplay object>"
      ]
     },
     "execution_count": 117,
     "metadata": {},
     "output_type": "execute_result"
    }
   ],
   "source": [
    "py.iplot(fig, filename='snakes-hist')"
   ]
  },
  {
   "cell_type": "markdown",
   "metadata": {},
   "source": [
    "The distributions are interesting.  The high peak of 'Player 2 Immunity' shows why it has the lowest average of snakes.  'Player 2 at 7' is more wide around the lower values and less right skewed than 'Original.'  'Accept 50% Ladders' has the most snakes and thus the lowest peak at 2."
   ]
  },
  {
   "cell_type": "code",
   "execution_count": 72,
   "metadata": {
    "collapsed": true
   },
   "outputs": [],
   "source": []
  },
  {
   "cell_type": "code",
   "execution_count": null,
   "metadata": {
    "collapsed": true
   },
   "outputs": [],
   "source": []
  }
 ],
 "metadata": {
  "kernelspec": {
   "display_name": "Python 3",
   "language": "python",
   "name": "python3"
  },
  "language_info": {
   "codemirror_mode": {
    "name": "ipython",
    "version": 3
   },
   "file_extension": ".py",
   "mimetype": "text/x-python",
   "name": "python",
   "nbconvert_exporter": "python",
   "pygments_lexer": "ipython3",
   "version": "3.4.3"
  }
 },
 "nbformat": 4,
 "nbformat_minor": 0
}
