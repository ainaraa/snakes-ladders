{
 "cells": [
  {
   "cell_type": "markdown",
   "metadata": {},
   "source": [
    "#Snakes + Ladders\n",
    "Simulation for End-to-End Analytics\n",
    "\n",
    "by Ainara Arcelus on December 6th\n",
    "\n",
    "$Approach_1$ where I code the entire game as opposed to recursively calculating the probability distribution at each square and sampling from that; I did not have time for the second approach."
   ]
  },
  {
   "cell_type": "code",
   "execution_count": 2,
   "metadata": {
    "collapsed": false
   },
   "outputs": [],
   "source": [
    "import random\n",
    "import numpy as np\n",
    "from plotly.tools import FigureFactory as FF\n",
    "import plotly.tools as tls\n",
    "tls.set_credentials_file(username='ainara', api_key='l83pbqxll6')\n",
    "import plotly.plotly as py\n",
    "from plotly.graph_objs import *\n",
    "from collections import Counter"
   ]
  },
  {
   "cell_type": "markdown",
   "metadata": {},
   "source": [
    "### A Player as a Class\n",
    "Python is awesome because it has object-oriented programming.  Let's define our main object (class), $Player$, which will have specific data and methods representing a player in this game.  \n",
    "\n",
    "There are five attributes (data) about a player that we need to know: starting position on the board, default is on square one; id, if it's player 1 or 2; probability of climbing a ladder; and immunity to the first snake."
   ]
  },
  {
   "cell_type": "code",
   "execution_count": 3,
   "metadata": {
    "collapsed": false
   },
   "outputs": [],
   "source": [
    "class Player(object):\n",
    "    def __init__(self, id, start, ladder_probability, snake_immunity):\n",
    "        ''' Creating a player with the given attributes'''\n",
    "        self.id = id\n",
    "        self.start = start\n",
    "        self.pos = start\n",
    "        self.ladderp = ladder_probability\n",
    "        self.immunity = snake_immunity\n",
    "        self.rolls = 0\n",
    "        self.snakes = 0\n",
    "    # The rest of these lines are just functions that allow us to interact with the Player\n",
    "    def updatePosition(self, steps): \n",
    "        ''' Change the position of a player given\n",
    "            an interval of steps '''\n",
    "        self.pos += steps\n",
    "    def getPosition(self):\n",
    "        ''' Where on the board is the Player'''\n",
    "        return self.pos\n",
    "    def addRoll(self):\n",
    "        ''' Allows us to increase the number\n",
    "            of times a player has tossed the die '''\n",
    "        self.rolls += 1\n",
    "    def addSnake(self):\n",
    "        ''' Add a snake to the count if \n",
    "            the player encounters one '''\n",
    "        self.snakes += 1\n",
    "    def getSnakes(self):\n",
    "        ''' How many snakes has the player\n",
    "            run into?'''\n",
    "        return self.snakes\n",
    "    def getRolls(self):\n",
    "        ''' How many times has the player \n",
    "            tossed the die? '''\n",
    "        return self.rolls\n",
    "    def getLadderp(self):\n",
    "        return self.ladderp\n",
    "    def getImmunity(self):\n",
    "        ''' Is this player immune to the\n",
    "            first snake? '''\n",
    "        return self.immunity\n",
    "    def getId(self):\n",
    "        ''' Which player is this? 1 or 2'''\n",
    "        return self.id\n",
    "    def getStart(self):\n",
    "        ''' What was the original starting square?\n",
    "            Used when resetting players for next game'''\n",
    "        return self.start\n",
    "    def reset(self):\n",
    "        ''' Resetting a player '''\n",
    "        self.__init__(self.getId(), self.getStart(), self.getLadderp(), self.getImmunity())\n",
    "    def __str__(self):\n",
    "        ''' prints the ID number of the player '''\n",
    "        return 'Player '+str(self.id)"
   ]
  },
  {
   "cell_type": "markdown",
   "metadata": {},
   "source": [
    "### Snakes and Ladders as Dictionaries\n",
    "Before playing, let's keep track of where the $ladders$ and $snakes$ are.  The best way to do this is using a Python dictionary, where the keys are the position on the board and item are the change in steps.  For example, at square 3, a player takes 13 steps forward to square 16."
   ]
  },
  {
   "cell_type": "code",
   "execution_count": 11,
   "metadata": {
    "collapsed": true
   },
   "outputs": [],
   "source": [
    "ladders = {3: 13, 5: 2, 15: 10, 18: 2, 21: 11}"
   ]
  },
  {
   "cell_type": "code",
   "execution_count": 12,
   "metadata": {
    "collapsed": true
   },
   "outputs": [],
   "source": [
    "snakes = {12: -10, 14: -3, 17: -13, 31: -12, 35: -13}"
   ]
  },
  {
   "cell_type": "markdown",
   "metadata": {},
   "source": [
    "### A Game as a Function\n",
    "Now we have all the pieces necessary to play a game.  Let's create a function called $game$ so we can easily run 10,000 games in one scenario.  All we need are to feed it our two $players$.  (I also added an argument called $q3$ that is True if this simulation is being run for Question 3; not very elegant but I needed to do extra checks for that simulation.)"
   ]
  },
  {
   "cell_type": "code",
   "execution_count": 123,
   "metadata": {
    "collapsed": false
   },
   "outputs": [],
   "source": [
    "def game(players):\n",
    "    win = False\n",
    "    while win == False:    # Let's keep playing until we have a winner\n",
    "        for player in players:\n",
    "            #if q3:  # This only applies if we are in question 3\n",
    "            #    question3inits(player)\n",
    "                \n",
    "            # Roll die and advance number on face\n",
    "            steps = random.randint(1,6)\n",
    "            player.updatePosition(steps)\n",
    "            player.addRoll()\n",
    "            #print(str(player) + ' rolled a '+str(steps)+' with position '+ str(player.getPosition()))\n",
    "\n",
    "            # Advance if at a ladder (and accept)\n",
    "            if player.getPosition() in ladders:\n",
    "                accept = np.random.binomial(1,player.getLadderp())  # Toss weighted coin to accept ladder\n",
    "                if accept:\n",
    "                    player.updatePosition(ladders.get(player.getPosition()))\n",
    "            \n",
    "            # Go back if on a snake (and not immune)\n",
    "            if player.getPosition() in snakes:\n",
    "                player.addSnake()\n",
    "                if (player.getSnakes() != 1 and player.getImmunity()) or not (player.getImmunity()):\n",
    "                    player.updatePosition(snakes.get(player.getPosition()))\n",
    "            #print(str(player) + ' ends at '+str(player.getPosition()))\n",
    "            \n",
    "            # Check if winner\n",
    "            if player.getPosition() >= 36:  # 36\n",
    "                win = True\n",
    "                winner = 1 if player.getId()== 1 else 0\n",
    "                break\n",
    "    total_rolls = sum(player.getRolls() for player in players)\n",
    "    total_snakes = sum(player.getSnakes() for player in players)\n",
    "    return(win, winner, total_rolls, total_snakes) "
   ]
  },
  {
   "cell_type": "code",
   "execution_count": 119,
   "metadata": {
    "collapsed": true
   },
   "outputs": [],
   "source": [
    "def question3inits(player):\n",
    "    ''' This is not ideal but I needed to check for snakes and ladders at the beginning \n",
    "        of Question 3.  For example, if Player 2 is started at 3 in question 3, then really I interpret that\n",
    "        as starting at 16.  So I needed to check this in the beginning of a roll.  \n",
    "        If I had more time, I'd probably make sure this only gets called for the first roll.  Or I could have \n",
    "        omitted square 3 as a viable starting point and just have square 16 be an option, for e.g. '''\n",
    "    # Advance if start at ladder (and accept)\n",
    "    if player.getPosition() in ladders:\n",
    "        accept = np.random.binomial(1,player.getLadderp())\n",
    "        if accept:\n",
    "            player.updatePosition(ladders.get(player.getPosition()))\n",
    "    # Go back if on a snake (and not immune)\n",
    "    if player.getPosition() in snakes:\n",
    "        player.addSnake()\n",
    "        if (player.getSnakes() != 1 and player.getImmunity()) or not (player.getImmunity()):\n",
    "            player.updatePosition(snakes.get(player.getPosition()))"
   ]
  },
  {
   "cell_type": "markdown",
   "metadata": {},
   "source": [
    "### A Simulation as a Function of Games\n",
    "Now let's run 10,000 games and keep track of things"
   ]
  },
  {
   "cell_type": "code",
   "execution_count": 124,
   "metadata": {
    "collapsed": false
   },
   "outputs": [],
   "source": [
    "def sim(runs, players):#, q3):\n",
    "    # Keeping track of things\n",
    "    player1, rolltotal, snaketotal = 0,0,0  \n",
    "    rolls_all, snakes_all = [],[]\n",
    "    \n",
    "    runsleft = runs\n",
    "    while runsleft > 0:\n",
    "        g = game(players)\n",
    "        #print(g)\n",
    "        player1 += g[1] # Counts Player 1's wins\n",
    "        rolltotal += g[2]\n",
    "        snaketotal += g[3]\n",
    "        rolls_all.append(g[2])  # Use rolls_all and snakes_all for graphing purposes at the end\n",
    "        snakes_all.append(g[3])\n",
    "        [p.reset() for p in players]  # Don't forget to reset the players!! Otherwise your results will not make sense\n",
    "        runsleft -= 1\n",
    "    return(player1/runs, snaketotal/runs, rolltotal/runs, rolls_all, snakes_all)"
   ]
  },
  {
   "cell_type": "markdown",
   "metadata": {},
   "source": [
    "## Questions 1 and 2\n",
    "Our players have the defaults: start at 1, always accept ladders, and have no immunity."
   ]
  },
  {
   "cell_type": "code",
   "execution_count": 128,
   "metadata": {
    "collapsed": true
   },
   "outputs": [],
   "source": [
    "runs = 10000\n",
    "players = [Player(1, 1, 1, False), Player(2, 1, 1, False)]"
   ]
  },
  {
   "cell_type": "code",
   "execution_count": 129,
   "metadata": {
    "collapsed": false
   },
   "outputs": [],
   "source": [
    "q1and2 = sim(runs, players)"
   ]
  },
  {
   "cell_type": "code",
   "execution_count": 130,
   "metadata": {
    "collapsed": false
   },
   "outputs": [
    {
     "data": {
      "text/plain": [
       "(0.5255, 3.1375, 19.1733)"
      ]
     },
     "execution_count": 130,
     "metadata": {},
     "output_type": "execute_result"
    }
   ],
   "source": [
    "q1and2[0:3]"
   ]
  },
  {
   "cell_type": "markdown",
   "metadata": {},
   "source": [
    "Looks like Player 1 has a slight advantage, winning about 52% of the games.  On average, games have 3 snakes and take 19 rolls to complete"
   ]
  },
  {
   "cell_type": "markdown",
   "metadata": {},
   "source": [
    "## Question 4\n",
    "Now we just have to adjust the probabilities a player has of accepting a ladder.  This is easy to do since it is already an attribute in the Player class"
   ]
  },
  {
   "cell_type": "code",
   "execution_count": 131,
   "metadata": {
    "collapsed": false
   },
   "outputs": [],
   "source": [
    "runs = 10000\n",
    "acceptance = .5\n",
    "players = [Player(1, 1, acceptance, False), Player(2, 1, acceptance, False)]"
   ]
  },
  {
   "cell_type": "code",
   "execution_count": 132,
   "metadata": {
    "collapsed": false
   },
   "outputs": [
    {
     "data": {
      "text/plain": [
       "(0.5207, 3.6336, 22.6053)"
      ]
     },
     "execution_count": 132,
     "metadata": {},
     "output_type": "execute_result"
    }
   ],
   "source": [
    "q4 = sim(runs, players)\n",
    "q4[0:3]"
   ]
  },
  {
   "cell_type": "markdown",
   "metadata": {},
   "source": [
    "Since a player can only take a ladder half of the time, the average number of rolls per game increases from 19 to 22; it takes longer to win now.  In addition, there is about half a snake more on average.  Player 1 still wins just over half of the time."
   ]
  },
  {
   "cell_type": "markdown",
   "metadata": {},
   "source": [
    "## Question 5\n",
    "Again, we can adjust the snake_immunity parameter when defining the Player 2; it is now True.  (And reset the acceptance of ladders back to 1 for both players.)"
   ]
  },
  {
   "cell_type": "code",
   "execution_count": 133,
   "metadata": {
    "collapsed": true
   },
   "outputs": [],
   "source": [
    "runs = 10000\n",
    "players = [Player(1, 1, 1, False), Player(2, 1, 1, True)]"
   ]
  },
  {
   "cell_type": "code",
   "execution_count": 134,
   "metadata": {
    "collapsed": false
   },
   "outputs": [
    {
     "data": {
      "text/plain": [
       "(0.3879, 2.6317, 16.7179)"
      ]
     },
     "execution_count": 134,
     "metadata": {},
     "output_type": "execute_result"
    }
   ],
   "source": [
    "q5 = sim(runs, players)\n",
    "q5[0:3]"
   ]
  },
  {
   "cell_type": "markdown",
   "metadata": {},
   "source": [
    "Wow; this immunity is a game changer.  Player 1 is only about 40% likely to win now.  Because Player 2 has a greater chance of continuing instead of going backwards, the game is shortened from 19 to 17 rolls and there are slightly fewer snakes (.4 less of a snake)."
   ]
  },
  {
   "cell_type": "markdown",
   "metadata": {},
   "source": [
    "## Question 3\n",
    "This question is the trickiest.  There seems to be the brute force approach using a simulation to try every starting position for Player 2.  Perhaps there is also an analytical solution that recursively calculates the probability of winning at each square.  \n",
    "\n",
    "Because I spent a few hours thinking about the problem before coding, I did not anticipate a 10,000 run simulation to finish that fast.  So I thought the brute force approach of testing every possible starting square would be infeasible.  Thus, I sought to get an intuition for the answer; perhaps I could start the simulation at a reasonable starting point and avoid testing all 36 squares.  \n",
    "\n",
    "My hypothesis was that square 7 would be optimal for Player 2, in terms of getting closest to a 50% probability of winning.  The reasoning is that on average, Player 1 will advance to square 7 on her first toss.  The expected second position of Player 1 is $\\mu_{p_1} = \\frac{1}{6}(2+ 16+ 4+ 7+ 6+ 7) = 7$.  Thus, half the time, Player 1 will be at or past square 7, and half the time she will fall short of 7.\n",
    "\n",
    "My idea was that by starting Player 2 at 7, there would be almost a 50% chance of Player 2 being in the lead or behind.  (Philosophically, is that what it means to be \"first\"?  Is distance the advantage Player 1 has?)  My angst was (is) over the fact that the board is not linear.  It is not necessarily more helpful to be further along the board. In general, yes, being at squares 34 and 33 almost guarantees a win.  The squares with snakes, however, are a setback.  \n",
    "\n",
    "For this submission, I did go the brute force approach and try every viable starting point.  Perhaps by luck, square 7 did have the closest probability of winning to 50%.  If I had more time, I would calculate the actual probability of winning at each square.  Perhaps I will finish that on the plane.  "
   ]
  },
  {
   "cell_type": "code",
   "execution_count": 122,
   "metadata": {
    "collapsed": true
   },
   "outputs": [],
   "source": [
    "# I assume a square cannot have a snake or ladder to be a viable starting point, or be at 36 (already won)]\n",
    "starts = [1, 2, 4, 6, 7, 8, 9, 10, 11, 13, 16, 19, 20, 22, 23, 24, 25, 26, 27, 28, 29, 30, 32, 33, 34]"
   ]
  },
  {
   "cell_type": "code",
   "execution_count": 141,
   "metadata": {
    "collapsed": true
   },
   "outputs": [],
   "source": [
    "def bruteForce(runs):\n",
    "    inequality = []\n",
    "    for start in starts: #range(1,37):  # Let's simulate 10,000 games at all the starting points for Player 2\n",
    "        players = [Player(1, 1, 1, False), Player(2, start, 1, False)]\n",
    "        inequality.append(abs(.5 - sim(runs, players)[0]))  # Get the absolute value of the difference between .5 \n",
    "                                                            # and the probability of winning with this starting point\n",
    "    print('Minimum difference of ', str(min(inequality)), ' when Player 2 starts at ', \n",
    "            str(starts[inequality.index(min(inequality))]))\n",
    "    return(inequality)"
   ]
  },
  {
   "cell_type": "code",
   "execution_count": 142,
   "metadata": {
    "collapsed": false
   },
   "outputs": [
    {
     "name": "stdout",
     "output_type": "stream",
     "text": [
      "Minimum difference of  0.004400000000000015  when Player 2 starts at  7\n"
     ]
    }
   ],
   "source": [
    "bf = bruteForce(runs = 10000)"
   ]
  },
  {
   "cell_type": "markdown",
   "metadata": {},
   "source": [
    "I am getting an \"optimal\" starting point at square 7 (diff of .0039 from .5).  This is actually what I expected!!  \n",
    "\n",
    "But wow, I did not expect the probabilities to be so convex... starting at 7 is actually the global minimum."
   ]
  },
  {
   "cell_type": "code",
   "execution_count": 153,
   "metadata": {
    "collapsed": false
   },
   "outputs": [
    {
     "data": {
      "text/html": [
       "<iframe id=\"igraph\" scrolling=\"no\" style=\"border:none;\"seamless=\"seamless\" src=\"https://plot.ly/~ainara/798.embed\" height=\"300px\" width=\"500px\"></iframe>"
      ],
      "text/plain": [
       "<plotly.tools.PlotlyDisplay object>"
      ]
     },
     "execution_count": 153,
     "metadata": {},
     "output_type": "execute_result"
    }
   ],
   "source": [
    "diffs = Scatter(x=starts, y = bf, mode='lines')\n",
    "layout = Layout( title = 'Game Fairness for Different Starting Points for Player 2',\n",
    "               xaxis=dict(title='Player 2 Starting Square'),yaxis=dict(title='Difference from a .5 Chance of Player 1 Winning',\n",
    "                                                                      titlefont=dict(size=10)),width=500, height=300)\n",
    "fig = Figure(data=[diffs], layout = layout)\n",
    "py.iplot(fig, filename='convex-diffs')"
   ]
  },
  {
   "cell_type": "markdown",
   "metadata": {},
   "source": [
    "Running a simulation with Player 2 starting at 7 to have later for graphing purposes,"
   ]
  },
  {
   "cell_type": "code",
   "execution_count": 140,
   "metadata": {
    "collapsed": false
   },
   "outputs": [
    {
     "data": {
      "text/plain": [
       "(0.4909, 3.3101, 18.5189)"
      ]
     },
     "execution_count": 140,
     "metadata": {},
     "output_type": "execute_result"
    }
   ],
   "source": [
    "runs = 10000\n",
    "players = [Player(1, 1, 1, False), Player(2, 7, 1, False)]\n",
    "q3 = sim(runs, players)#, q3=False) \n",
    "q3[0:3]"
   ]
  },
  {
   "cell_type": "markdown",
   "metadata": {},
   "source": [
    "## Graphing with Plotly\n",
    "Wouldn't be legitimate without a graph in Plotly"
   ]
  },
  {
   "cell_type": "code",
   "execution_count": 86,
   "metadata": {
    "collapsed": true
   },
   "outputs": [],
   "source": [
    "# Let's start with an easy bubble chart to plot the probability of Player 1 winning"
   ]
  },
  {
   "cell_type": "code",
   "execution_count": 111,
   "metadata": {
    "collapsed": false
   },
   "outputs": [],
   "source": [
    "inflation = 300\n",
    "trace_p1 = Scatter(x=['Original', 'Accept 50% Ladders', 'Player 2 Immunity', 'Player 2 at 7'],\n",
    "                   y = [0,0,0,0], text=[str(q1and2[0]), str(q4[0]), str(q5[0]), str(q3[0])],\n",
    "                   mode='markers', marker=dict(color=['rgb(93, 164, 214)', \\\n",
    "                                'rgb(255, 144, 14)',  'rgb(44, 160, 101)', 'rgb(255, 65, 54)'],\n",
    "                                size =  [inflation*q1and2[0], inflation*q4[0], inflation*q5[0], inflation*q3[0]]))\n",
    "data = [trace_p1]\n",
    "layout = Layout(yaxis=dict(showgrid=False, zeroline=False, showline=False, showticklabels=False),\n",
    "               title = 'Probability of Player 1 Winning across Scenarios')\n",
    "fig = Figure(data=data, layout = layout)"
   ]
  },
  {
   "cell_type": "code",
   "execution_count": 112,
   "metadata": {
    "collapsed": false
   },
   "outputs": [
    {
     "data": {
      "text/html": [
       "<iframe id=\"igraph\" scrolling=\"no\" style=\"border:none;\"seamless=\"seamless\" src=\"https://plot.ly/~ainara/796.embed\" height=\"525px\" width=\"100%\"></iframe>"
      ],
      "text/plain": [
       "<plotly.tools.PlotlyDisplay object>"
      ]
     },
     "execution_count": 112,
     "metadata": {},
     "output_type": "execute_result"
    }
   ],
   "source": [
    "py.iplot(fig, filename='p1-probabilities')"
   ]
  },
  {
   "cell_type": "code",
   "execution_count": 113,
   "metadata": {
    "collapsed": false
   },
   "outputs": [],
   "source": [
    "# Plotting distribution of rolls per game\n",
    "hist_data = [q3[3], q5[3], q4[3], q1and2[3]]\n",
    "group_labels = ['Player 2 at 7', 'Player 2 Immunity', 'Accept 50% Ladders', 'Original']\n",
    "\n",
    "fig = FF.create_distplot(hist_data, group_labels, show_hist=False, colors = ['rgb(255, 65, 54)', 'rgb(44, 160, 101)',\\\n",
    "                                                                            'rgb(255, 144, 14)','rgb(93, 164, 214)'])\n",
    "fig['layout'].update(title='Distribution of Rolls per Game across Scenarios')"
   ]
  },
  {
   "cell_type": "code",
   "execution_count": 114,
   "metadata": {
    "collapsed": false
   },
   "outputs": [
    {
     "name": "stdout",
     "output_type": "stream",
     "text": [
      "The draw time for this plot will be slow for clients without much RAM.\n"
     ]
    },
    {
     "name": "stderr",
     "output_type": "stream",
     "text": [
      "C:\\Python34\\lib\\site-packages\\plotly\\plotly\\plotly.py:1416: UserWarning:\n",
      "\n",
      "Estimated Draw Time Slow\n",
      "\n"
     ]
    },
    {
     "data": {
      "text/html": [
       "<iframe id=\"igraph\" scrolling=\"no\" style=\"border:none;\"seamless=\"seamless\" src=\"https://plot.ly/~ainara/789.embed\" height=\"525px\" width=\"100%\"></iframe>"
      ],
      "text/plain": [
       "<plotly.tools.PlotlyDisplay object>"
      ]
     },
     "execution_count": 114,
     "metadata": {},
     "output_type": "execute_result"
    }
   ],
   "source": [
    "py.iplot(fig, filename='rolls-dist')"
   ]
  },
  {
   "cell_type": "code",
   "execution_count": 115,
   "metadata": {
    "collapsed": false
   },
   "outputs": [],
   "source": [
    "# Plotting histogram of snakes per game # Takes a few lines to turn the lists of snakes into frequencies\n",
    "count_q1and2 = Counter(q1and2[4])\n",
    "trace_q1and2 = Scatter(x = list(count_q1and2.keys()), y = list(count_q1and2.values()), name = 'Original',\n",
    "                      marker=dict(color='rgb(93, 164, 214)'))\n",
    "\n",
    "count_q4 = Counter(q4[4])\n",
    "trace_q4 = Scatter(x = list(count_q4.keys()), y = list(count_q4.values()), name = 'Accept 50% Ladders',\n",
    "                  marker=dict(color='rgb(255, 144, 14)'))\n",
    "\n",
    "count_q5 = Counter(q5[4])\n",
    "trace_q5 = Scatter(x = list(count_q5.keys()), y = list(count_q5.values()), name = 'Player 2 Immunity',\n",
    "                  marker=dict(color='rgb(44, 160, 101)'))\n",
    "\n",
    "count_q3 = Counter(q3[4])\n",
    "trace_q3 = Scatter(x = list(count_q3.keys()), y = list(count_q3.values()), name = 'Player 2 at 7',\n",
    "                  marker=dict(color='rgb(255, 65, 54)'))\n",
    "\n",
    "traceList = [trace_q1and2, trace_q4, trace_q5, trace_q3]\n",
    "layout = Layout(title='Frequency Count of Snakes per Game across Scenarios')\n",
    "#fig = Figure(traceList, layout=layout)"
   ]
  },
  {
   "cell_type": "code",
   "execution_count": 116,
   "metadata": {
    "collapsed": true
   },
   "outputs": [],
   "source": [
    "fig = Figure(data=traceList, layout=layout)"
   ]
  },
  {
   "cell_type": "code",
   "execution_count": 117,
   "metadata": {
    "collapsed": false
   },
   "outputs": [
    {
     "data": {
      "text/html": [
       "<iframe id=\"igraph\" scrolling=\"no\" style=\"border:none;\"seamless=\"seamless\" src=\"https://plot.ly/~ainara/794.embed\" height=\"525px\" width=\"100%\"></iframe>"
      ],
      "text/plain": [
       "<plotly.tools.PlotlyDisplay object>"
      ]
     },
     "execution_count": 117,
     "metadata": {},
     "output_type": "execute_result"
    }
   ],
   "source": [
    "py.iplot(fig, filename='snakes-hist')"
   ]
  },
  {
   "cell_type": "markdown",
   "metadata": {},
   "source": [
    "The distributions are interesting.  The high peak of 'Player 2 Immunity' shows why it has the lowest average of snakes.  'Player 2 at 7' is more wide around the lower values and less right skewed than 'Original.'  'Accept 50% Ladders' has the most snakes and thus the lowest peak at 2."
   ]
  },
  {
   "cell_type": "code",
   "execution_count": 72,
   "metadata": {
    "collapsed": true
   },
   "outputs": [],
   "source": []
  },
  {
   "cell_type": "code",
   "execution_count": null,
   "metadata": {
    "collapsed": true
   },
   "outputs": [],
   "source": []
  }
 ],
 "metadata": {
  "kernelspec": {
   "display_name": "Python 3",
   "language": "python",
   "name": "python3"
  },
  "language_info": {
   "codemirror_mode": {
    "name": "ipython",
    "version": 3
   },
   "file_extension": ".py",
   "mimetype": "text/x-python",
   "name": "python",
   "nbconvert_exporter": "python",
   "pygments_lexer": "ipython3",
   "version": "3.4.3"
  }
 },
 "nbformat": 4,
 "nbformat_minor": 0
}
